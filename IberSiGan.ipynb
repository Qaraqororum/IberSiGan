{
  "cells": [
    {
      "cell_type": "markdown",
      "metadata": {
        "id": "view-in-github",
        "colab_type": "text"
      },
      "source": [
        "<a href=\"https://colab.research.google.com/github/Qaraqororum/IberSiGan/blob/main/IberSiGan.ipynb\" target=\"_parent\"><img src=\"https://colab.research.google.com/assets/colab-badge.svg\" alt=\"Open In Colab\"/></a>"
      ]
    },
    {
      "cell_type": "code",
      "execution_count": null,
      "metadata": {
        "id": "TfCOC1iQfrHa"
      },
      "outputs": [],
      "source": [
        "import numpy as np\n",
        "import matplotlib.pyplot as plt\n",
        "import tensorflow as tf\n",
        "from tensorflow.keras.layers import (Dense, \n",
        "                                     BatchNormalization, \n",
        "                                     LeakyReLU, \n",
        "                                     Reshape, \n",
        "                                     Conv2DTranspose,\n",
        "                                     Conv2D,\n",
        "                                     Dropout,\n",
        "                                     Flatten,\n",
        "                                     RandomFlip,\n",
        "                                     RandomRotation)"
      ]
    },
    {
      "cell_type": "code",
      "execution_count": null,
      "metadata": {
        "colab": {
          "base_uri": "https://localhost:8080/"
        },
        "id": "eQ7s20AXgKGx",
        "outputId": "3fa8d5b2-0f18-4283-f1e1-3a29817cdcd3"
      },
      "outputs": [
        {
          "name": "stdout",
          "output_type": "stream",
          "text": [
            "Drive already mounted at /content/drive; to attempt to forcibly remount, call drive.mount(\"/content/drive\", force_remount=True).\n"
          ]
        }
      ],
      "source": [
        "from google.colab import drive\n",
        "drive.mount('/content/drive')"
      ]
    },
    {
      "cell_type": "markdown",
      "metadata": {
        "id": "6s2mBOLXhCui"
      },
      "source": [
        "# Carga y procesado de los datos\n",
        "\n",
        "Cargamos los datos. Se estructuran en forma de matriz 90x90 con 138 imágenes. Reducimos la resolución de las imágenes para que sea más fácil de entrenar la red neuronal. Además eliminamos algunos signos que empeoran los resultados (en específico uno que es un punto y otro que son 2 puntos, se nota bastante su efecto)."
      ]
    },
    {
      "cell_type": "code",
      "execution_count": null,
      "metadata": {
        "colab": {
          "base_uri": "https://localhost:8080/",
          "height": 285
        },
        "id": "JI2wQpFngLuv",
        "outputId": "62c142bf-df30-4211-9365-4df980f9c1c1"
      },
      "outputs": [
        {
          "data": {
            "text/plain": [
              "<matplotlib.image.AxesImage at 0x7ff80d268c90>"
            ]
          },
          "execution_count": 3,
          "metadata": {},
          "output_type": "execute_result"
        },
        {
          "data": {
            "image/png": "[encoded data removed]",
            "text/plain": [
              "<Figure size 432x288 with 1 Axes>"
            ]
          },
          "metadata": {},
          "output_type": "display_data"
        }
      ],
      "source": [
        "data = np.load('/content/drive/MyDrive/IberSiGAN/SgnariumProcesado.npy')# cargar de otra fuente los datos si es necesario\n",
        "plt.imshow(data[:,:,10])"
      ]
    },
    {
      "cell_type": "code",
      "execution_count": null,
      "metadata": {
        "id": "0scF8zwHsMov"
      },
      "outputs": [],
      "source": [
        "import pylab as plt\n",
        "\n",
        "from scipy.interpolate import RegularGridInterpolator\n",
        "\n",
        "def regrid(data, out_x, out_y):\n",
        "    m = max(data.shape[0], data.shape[1])\n",
        "    y = np.linspace(0, 1.0/m, data.shape[0])\n",
        "    x = np.linspace(0, 1.0/m, data.shape[1])\n",
        "    interpolating_function = RegularGridInterpolator((y, x), data)\n",
        "\n",
        "    yv, xv = np.meshgrid(np.linspace(0, 1.0/m, out_y), np.linspace(0, 1.0/m, out_x))\n",
        "\n",
        "    return interpolating_function((xv, yv))\n",
        "\n",
        "data_28 = np.zeros([138,28,28])\n",
        "\n",
        "for i in range(data.shape[2]):\n",
        "  data_28[i,:,:] = regrid(data[:,:,i],28,28)\n",
        "  \n",
        "\n",
        "data_28 = data_28/np.max(data_28)\n",
        "data_28 = np.delete(data_28,[69,71,77,78,102,103,104,105,106,107,108],axis =0)\n"
      ]
    },
    {
      "cell_type": "markdown",
      "metadata": {
        "id": "lBDJDmPMokO3"
      },
      "source": [
        "# Red neuronal\n",
        "\n",
        "Empezamos definiendo el generador, la idea es crear una red convolucional profunda con una estructura de capas Convolucional 2D -> Normalization -> ReLU. Utilizamos funciones de activación sigmoides por ser no lineales (funcionan mejor que las lineales al menos en este caso) y tener límites en 0 y 1, no como la tangente hiperbólica, de esta manera salen imágenes más parecidas a las originales y sin ruido de fondo (algo que si pasaba con la tangente). Empezamos con capas convolucionales con muchos canales y pocos píxeles para ir aumentando la resolución hasta el 28*28 de los originales y reduciendo a un solo canal.\n",
        "\n",
        "Con el modelo discriminador seguimos el mismo patrón pero invirtiendo el crecimiento de las dimensiones, de hecho ahora finalizamos la red con un \"aplanado\" y una capa densa para tener un coeficiente discriminante."
      ]
    },
    {
      "cell_type": "code",
      "execution_count": null,
      "metadata": {
        "id": "UWHbuSouh4zq"
      },
      "outputs": [],
      "source": [
        "def make_generator_model():\n",
        "    model = tf.keras.Sequential()\n",
        "    model.add(Dense(7*7*256, use_bias=False, input_shape=(100,)))\n",
        "    model.add(BatchNormalization())\n",
        "    model.add(LeakyReLU())\n",
        "\n",
        "    model.add(Reshape((7, 7, 256)))\n",
        "    assert model.output_shape == (None, 7, 7, 256) # Note: None is the batch size\n",
        "\n",
        "    model.add(Conv2DTranspose(128, (5, 5), strides=(1, 1), padding='same', use_bias=False, activation='sigmoid'))\n",
        "    assert model.output_shape == (None, 7, 7, 128)\n",
        "    model.add(BatchNormalization())\n",
        "    model.add(LeakyReLU())\n",
        "\n",
        "    model.add(Conv2DTranspose(64, (5, 5), strides=(2, 2), padding='same', use_bias=False, activation='sigmoid'))\n",
        "    assert model.output_shape == (None, 14, 14, 64)\n",
        "    model.add(BatchNormalization())\n",
        "    model.add(LeakyReLU())\n",
        "\n",
        "    model.add(Conv2DTranspose(1, (5, 5), strides=(2, 2), padding='same', use_bias=False, activation='sigmoid'))\n",
        "    assert model.output_shape == (None, 28, 28, 1)\n",
        "\n",
        "    return model\n",
        "\n",
        "\n",
        "def make_discriminator_model():\n",
        "    model = tf.keras.Sequential()\n",
        "    \n",
        "    model.add(Conv2D(64, (5, 5), strides=(2, 2), padding='same', input_shape=[28, 28, 1],name = \"Conv_1\"))\n",
        "    model.add(LeakyReLU())\n",
        "    model.add(Dropout(0.3))\n",
        "\n",
        "    model.add(Conv2D(128, (5, 5), strides=(2, 2), padding='same',name = \"Conv_2\"))\n",
        "    model.add(LeakyReLU())\n",
        "    model.add(Dropout(0.3))\n",
        "\n",
        "    model.add(Flatten())\n",
        "    model.add(Flatten())\n",
        "    model.add(Dense(1,name = \"Dense_final\"))\n",
        "\n",
        "    return model"
      ]
    },
    {
      "cell_type": "markdown",
      "metadata": {
        "id": "SpsdsyR0qCsE"
      },
      "source": [
        "Definimos las funciones de pérdida, aquí no tenemos mucho propio, las heos copiado de una red que hacía algo parecido a lo que queríamos pero con cifras escritas a mano. Como cuando tocábamos algo solo iba a peor, está intacto."
      ]
    },
    {
      "cell_type": "code",
      "execution_count": null,
      "metadata": {
        "id": "eJemPI56jPqy"
      },
      "outputs": [],
      "source": [
        "generator = make_generator_model()\n",
        "discriminator = make_discriminator_model()\n",
        "\n",
        "cross_entropy = tf.keras.losses.BinaryCrossentropy(from_logits=True)\n",
        "\n",
        "def discriminator_loss(real_output, fake_output):\n",
        "    real_loss = cross_entropy(tf.ones_like(real_output), real_output)\n",
        "    fake_loss = cross_entropy(tf.zeros_like(fake_output), fake_output)\n",
        "    total_loss = real_loss + fake_loss\n",
        "    return total_loss\n",
        "\n",
        "def generator_loss(fake_output):\n",
        "    return cross_entropy(tf.ones_like(fake_output), fake_output)\n",
        "\n",
        "generator_optimizer = tf.keras.optimizers.Adam(1e-4)\n",
        "discriminator_optimizer = tf.keras.optimizers.Adam(1e-4)"
      ]
    },
    {
      "cell_type": "markdown",
      "metadata": {
        "id": "KnI-youRuBzK"
      },
      "source": [
        "Parámetros de entrenamiento, las épocas y el batch size se han tomado a mano, entrenando con varias configuraciones. Con más épocas muchos de los resultados son ininteligibles y bastantes de los que parecen signos aparecen tal cual en el conjunto original. Con menos épocas aparecen las geometrías básicas de los signos (líneas rectas, diagonales, algún círculo) pero nada más, les falta complejidad.\n",
        "\n",
        "Con el batch size pasa algo parecido, si pasamos menos imágenes a la vez la red se entrenam muy lentamente y da resultados muy simples, pero si nos pasamos lo que ocurre es que algunos elementos que aparecen más en los signos ganan demasiada importancia y todos los resultados se asemejan demasiado."
      ]
    },
    {
      "cell_type": "code",
      "execution_count": null,
      "metadata": {
        "id": "Wdr_fF_SkkfR"
      },
      "outputs": [],
      "source": [
        "\n",
        "EPOCHS = 500\n",
        "BATCH_SIZE = 15\n",
        "BUFFER_SIZE = 100\n",
        "\n",
        "\n",
        "num_examples_to_generate = 16\n",
        "noise_dim = 100\n",
        "seed = tf.random.normal([num_examples_to_generate, noise_dim])"
      ]
    },
    {
      "cell_type": "markdown",
      "metadata": {
        "id": "Y6xYKU-EtmfZ"
      },
      "source": [
        "Función para el entrenamiento de la red, no es original, tomada de la red mentada anteriormente y modificada en apenas unas líneas."
      ]
    },
    {
      "cell_type": "code",
      "execution_count": null,
      "metadata": {
        "id": "9LLA5CRZMrDt"
      },
      "outputs": [],
      "source": [
        "\n",
        "import os\n",
        "\n",
        "checkpoint_dir = './training_checkpoints'\n",
        "checkpoint_prefix = os.path.join(checkpoint_dir, \"ckpt\")\n",
        "checkpoint = tf.train.Checkpoint(generator_optimizer=generator_optimizer,\n",
        "                                 discriminator_optimizer=discriminator_optimizer,\n",
        "                                 generator=generator,\n",
        "                                 discriminator=discriminator)"
      ]
    },
    {
      "cell_type": "code",
      "execution_count": null,
      "metadata": {
        "id": "zCUiNnl0m7KH"
      },
      "outputs": [],
      "source": [
        "# tf.function annotation causes the function \n",
        "# to be \"compiled\" as part of the training\n",
        "@tf.function\n",
        "def train_step(images):\n",
        "  \n",
        "    # 1 - Create a random noise to feed it into the model\n",
        "    # for the image generation\n",
        "    noise = tf.random.normal([BATCH_SIZE, noise_dim])\n",
        "    \n",
        "    # 2 - Generate images and calculate loss values\n",
        "    # GradientTape method records operations for automatic differentiation.\n",
        "    with tf.GradientTape() as gen_tape, tf.GradientTape() as disc_tape:\n",
        "      generated_images = generator(noise, training=True)\n",
        "\n",
        "      #images = tf.reshape(images, [28,28], name=None)\n",
        "      real_output = discriminator(images, training=True)\n",
        "      fake_output = discriminator(generated_images, training=True)\n",
        "\n",
        "      gen_loss = generator_loss(fake_output)\n",
        "      disc_loss = discriminator_loss(real_output, fake_output)\n",
        "\n",
        "    # 3 - Calculate gradients using loss values and model variables\n",
        "    # \"gradient\" method computes the gradient using \n",
        "    # operations recorded in context of this tape (gen_tape and disc_tape).\n",
        "    \n",
        "    # It accepts a target (e.g., gen_loss) variable and \n",
        "    # a source variable (e.g.,generator.trainable_variables)\n",
        "    # target --> a list or nested structure of Tensors or Variables to be differentiated.\n",
        "    # source --> a list or nested structure of Tensors or Variables.\n",
        "    # target will be differentiated against elements in sources.\n",
        "\n",
        "    # \"gradient\" method returns a list or nested structure of Tensors  \n",
        "    # (or IndexedSlices, or None), one for each element in sources. \n",
        "    # Returned structure is the same as the structure of sources.\n",
        "    gradients_of_generator = gen_tape.gradient(gen_loss, \n",
        "                                               generator.trainable_variables)\n",
        "    gradients_of_discriminator = disc_tape.gradient(disc_loss, \n",
        "                                                discriminator.trainable_variables)\n",
        "    \n",
        "    # 4 - Process  Gradients and Run the Optimizer\n",
        "    # \"apply_gradients\" method processes aggregated gradients. \n",
        "    # ex: optimizer.apply_gradients(zip(grads, vars))\n",
        "    \"\"\"\n",
        "    Example use of apply_gradients:\n",
        "    grads = tape.gradient(loss, vars)\n",
        "    grads = tf.distribute.get_replica_context().all_reduce('sum', grads)\n",
        "    # Processing aggregated gradients.\n",
        "    optimizer.apply_gradients(zip(grads, vars), experimental_aggregate_gradients=False)\n",
        "    \"\"\"\n",
        "    generator_optimizer.apply_gradients(zip(gradients_of_generator, generator.trainable_variables))\n",
        "    discriminator_optimizer.apply_gradients(zip(gradients_of_discriminator, discriminator.trainable_variables))\n"
      ]
    },
    {
      "cell_type": "markdown",
      "metadata": {
        "id": "r1AU-yX1t21N"
      },
      "source": [
        "Función para visualizar los signos generados sobre la marcha. Copiada también."
      ]
    },
    {
      "cell_type": "code",
      "execution_count": null,
      "metadata": {
        "id": "1HV8GtyDly6R"
      },
      "outputs": [],
      "source": [
        "import time\n",
        "from IPython import display # A command shell for interactive computing in Python.\n",
        "\n",
        "def train(dataset, epochs):\n",
        "  # A. For each epoch, do the following:\n",
        "  for epoch in range(epochs):\n",
        "    start = time.time()\n",
        "    # 1 - For each batch of the epoch, \n",
        "    for image_batch in dataset:\n",
        "      # 1.a - run the custom \"train_step\" function\n",
        "      # we just declared above\n",
        "      train_step(image_batch)\n",
        "\n",
        "    # 2 - Produce images for the GIF as we go\n",
        "    display.clear_output(wait=True)\n",
        "    generate_and_save_images(generator,\n",
        "                             epoch + 1,\n",
        "                             seed)\n",
        "\n",
        "    # 3 - Save the model every 5 epochs as \n",
        "    # a checkpoint, which we will use later\n",
        "    if (epoch + 1) % 5 == 0:\n",
        "      checkpoint.save(file_prefix = checkpoint_prefix)\n",
        "\n",
        "    # 4 - Print out the completed epoch no. and the time spent\n",
        "    print ('Time for epoch {} is {} sec'.format(epoch + 1, time.time()-start))\n",
        "\n",
        "  # B. Generate a final image after the training is completed\n",
        "  display.clear_output(wait=True)\n",
        "  generate_and_save_images(generator,\n",
        "                           epochs,\n",
        "                           seed)\n",
        "  \n",
        "  \n",
        "def generate_and_save_images(model, epoch, test_input):\n",
        "  # Notice `training` is set to False.\n",
        "  # This is so all layers run in inference mode (batchnorm).\n",
        "  # 1 - Generate images\n",
        "  predictions = model(test_input, training=False)\n",
        "  # 2 - Plot the generated images\n",
        "  fig = plt.figure(figsize=(8,8))\n",
        "  for i in range(predictions.shape[0]):\n",
        "      plt.subplot(4, 4, i+1)\n",
        "      plt.imshow(predictions[i, :, :, 0] * 127.5 + 127.5, cmap='gray')\n",
        "      plt.axis('off')\n",
        "  # 3 - Save the generated images\n",
        "  plt.savefig('image_at_epoch_{:04d}.png'.format(epoch))\n",
        "  plt.show()"
      ]
    },
    {
      "cell_type": "markdown",
      "metadata": {
        "id": "jSPisrVsqiwp"
      },
      "source": [
        "Durante una etapa del desarrollo de la red intentamos aumentar los datos, ya que 136 imágenes parecen pocas, pero los resultados eran mucho peores, este bloque ya no está activo."
      ]
    },
    {
      "cell_type": "code",
      "execution_count": null,
      "metadata": {
        "id": "1rwugfq6uwLt"
      },
      "outputs": [],
      "source": [
        "#Bloque de código en desuso, el aumento de datos rotando o flipeando las imágenes daba peores resultados\n",
        "def prepare(ds, shuffle=True, augment=True):\n",
        "  # Resize and rescale all datasets.\n",
        "  if shuffle:\n",
        "    ds = ds.shuffle(1000)\n",
        "\n",
        "  # Use data augmentation only on the training set.\n",
        "  if augment:\n",
        "    data_augmentation = tf.keras.Sequential([\n",
        "      RandomRotation(0.5)\n",
        "    ])\n",
        "    \n",
        "    ds = ds.map(lambda x: (data_augmentation(x, training=True)))\n",
        "\n",
        "  # Use buffered prefetching on all datasets.\n",
        "  return ds"
      ]
    },
    {
      "cell_type": "markdown",
      "metadata": {
        "id": "-6ToB0oiqxKi"
      },
      "source": [
        "# Entrenamiento de la red"
      ]
    },
    {
      "cell_type": "code",
      "execution_count": null,
      "metadata": {
        "colab": {
          "background_save": true,
          "base_uri": "https://localhost:8080/",
          "height": 483
        },
        "id": "Gxhxb0tYmD19",
        "outputId": "b9c1177b-a556-4392-ffd3-91a675ab5a57"
      },
      "outputs": [
        {
          "data": {
            "image/png": "[encoded data removed]",
            "text/plain": [
              "<Figure size 576x576 with 16 Axes>"
            ]
          },
          "metadata": {},
          "output_type": "display_data"
        }
      ],
      "source": [
        "data_28_ = data_28.reshape(data_28.shape[0], 28, 28, 1).astype('float32')#\n",
        "data_28_ = tf.data.Dataset.from_tensor_slices(data_28_).shuffle(BUFFER_SIZE).batch(BATCH_SIZE)#prepare(tf.data.Dataset.from_tensor_slices(data_28_)).shuffle(BUFFER_SIZE).batch(BATCH_SIZE)\n",
        "\n",
        "train(data_28_, EPOCHS)"
      ]
    }
  ],
  "metadata": {
    "accelerator": "GPU",
    "colab": {
      "collapsed_sections": [],
      "name": "IberSiGan.ipynb",
      "provenance": [],
      "include_colab_link": true
    },
    "kernelspec": {
      "display_name": "Python 3",
      "name": "python3"
    },
    "language_info": {
      "name": "python"
    }
  },
  "nbformat": 4,
  "nbformat_minor": 0
}